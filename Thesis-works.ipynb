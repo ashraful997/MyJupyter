{
 "cells": [
  {
   "cell_type": "markdown",
   "id": "improving-variance",
   "metadata": {},
   "source": [
    "## Our goal\n",
    "* Is to suggest a suitable crop which will yield the most\n",
    "* Find the best regressor for finding the most yielding crop\n",
    "* Find the best classifier which will suggest the crop"
   ]
  },
  {
   "cell_type": "markdown",
   "id": "limited-wellington",
   "metadata": {},
   "source": [
    "# NB\n",
    "## Problems:\n",
    "* To work with regressors a huge amount of dataset is needed\n",
    "* The dataset I am working on contains less than 100 information\n",
    "* That's why the models couldn't learn enough to predict accurately"
   ]
  },
  {
   "cell_type": "markdown",
   "id": "least-burke",
   "metadata": {},
   "source": [
    "# Importing Libraries"
   ]
  },
  {
   "cell_type": "code",
   "execution_count": 1,
   "id": "mature-poison",
   "metadata": {},
   "outputs": [],
   "source": [
    "from importlib import import_module\n",
    "import sklearn\n",
    "import numpy as np\n",
    "import matplotlib.pyplot as plt\n",
    "%matplotlib inline\n",
    "import pandas as pd\n",
    "import time\n",
    "\n",
    "#importing train_test_split from sklearn\n",
    "from sklearn.model_selection import train_test_split\n",
    "\n",
    "#importing oneHotEncoder and column transformer for converting text to numeric data and transforming the columns\n",
    "from sklearn.preprocessing import OneHotEncoder\n",
    "from sklearn.compose import ColumnTransformer"
   ]
  },
  {
   "cell_type": "markdown",
   "id": "olive-thong",
   "metadata": {},
   "source": [
    "# Importing all the regressors"
   ]
  },
  {
   "cell_type": "code",
   "execution_count": 2,
   "id": "cubic-fight",
   "metadata": {},
   "outputs": [],
   "source": [
    "from sklearn.ensemble import RandomForestRegressor\n",
    "from sklearn.neighbors import KNeighborsRegressor\n",
    "from sklearn.linear_model import LinearRegression\n",
    "from sklearn.ensemble import GradientBoostingRegressor\n",
    "from sklearn.ensemble import AdaBoostRegressor\n",
    "from sklearn.tree import DecisionTreeRegressor\n",
    "from sklearn.svm import SVR\n",
    "from sklearn.ensemble import BaggingRegressor\n",
    "from sklearn.neural_network import MLPRegressor"
   ]
  },
  {
   "cell_type": "markdown",
   "id": "intelligent-voltage",
   "metadata": {},
   "source": [
    "# Importing dataset and creating X and y's for training and testing"
   ]
  },
  {
   "cell_type": "code",
   "execution_count": 3,
   "id": "controversial-pendant",
   "metadata": {},
   "outputs": [],
   "source": [
    "agds = pd.read_csv(\"data/agriculturalDataset.csv\")\n",
    "agds[\"area\"].fillna(agds[\"area\"].mean(),\n",
    "                                     inplace=True)\n",
    "\n",
    "X = agds.drop([\"aus\", \"aman\", \"boro\", \"wheat\", \"potato\", \"jute\"], axis = 1)\n",
    "aus_y = agds[\"aus\"]\n",
    "aman_y = agds[\"aman\"]\n",
    "boro_y = agds[\"boro\"]\n",
    "wheat_y = agds[\"wheat\"]\n",
    "potato_y = agds[\"potato\"]\n",
    "jute_y = agds[\"jute\"]"
   ]
  },
  {
   "cell_type": "markdown",
   "id": "impressive-fleet",
   "metadata": {},
   "source": [
    "# Transforming columns which holds string values"
   ]
  },
  {
   "cell_type": "code",
   "execution_count": 4,
   "id": "valuable-generation",
   "metadata": {},
   "outputs": [],
   "source": [
    "#transforming our dataframe cells which have text values, converting them to numbers\n",
    "categorical_features = [\"District\", \"storm\"]\n",
    "one_hot = OneHotEncoder()\n",
    "transformer = ColumnTransformer([(\"one_hot\",\n",
    "                                   one_hot,\n",
    "                                   categorical_features)],\n",
    "                                   remainder=\"passthrough\")\n",
    "\n",
    "transformed_X = transformer.fit_transform(X)"
   ]
  },
  {
   "cell_type": "markdown",
   "id": "threaded-fraction",
   "metadata": {},
   "source": [
    "# Create Train and Test data\n",
    "## List of target\n",
    "* Aus\n",
    "* Aman\n",
    "* Boro\n",
    "* Wheat\n",
    "* Potato\n",
    "* Jute"
   ]
  },
  {
   "cell_type": "code",
   "execution_count": 5,
   "id": "respiratory-myanmar",
   "metadata": {},
   "outputs": [],
   "source": [
    "#Creating train data and test data\n",
    "\n",
    "aus_X_train, aus_X_test, aus_y_train, aus_y_test = train_test_split(transformed_X, aus_y, test_size=0.2)\n",
    "aman_X_train, aman_X_test, aman_y_train, aman_y_test = train_test_split(transformed_X, aman_y, test_size=0.2)\n",
    "boro_X_train, boro_X_test, boro_y_train, boro_y_test = train_test_split(transformed_X, boro_y, test_size=0.2)\n",
    "wheat_X_train, wheat_X_test, wheat_y_train, wheat_y_test = train_test_split(transformed_X, wheat_y, test_size=0.2)\n",
    "potato_X_train, potato_X_test, potato_y_train, potato_y_test = train_test_split(transformed_X, potato_y, test_size=0.2)\n",
    "jute_X_train, jute_X_test, jute_y_train, jute_y_test = train_test_split(transformed_X, jute_y, test_size=0.2)"
   ]
  },
  {
   "cell_type": "markdown",
   "id": "revised-occasion",
   "metadata": {},
   "source": [
    "# Creating a dictionary of models\n",
    "## Result for each target\n",
    "### Execution time for each taeget"
   ]
  },
  {
   "cell_type": "code",
   "execution_count": 6,
   "id": "gross-regular",
   "metadata": {},
   "outputs": [
    {
     "data": {
      "text/plain": [
       "({'RandomForestRegressor': RandomForestRegressor(),\n",
       "  'KNeighborsRegressor': KNeighborsRegressor(),\n",
       "  'GradientBoostingRegressor': GradientBoostingRegressor(),\n",
       "  'AdaBoostRegressor': AdaBoostRegressor(),\n",
       "  'DecisionTreeRegressor': DecisionTreeRegressor()},\n",
       " {'aus': {}, 'aman': {}, 'boro': {}, 'wheat': {}, 'potato': {}, 'jute': {}},\n",
       " {'aus': {}, 'aman': {}, 'boro': {}, 'wheat': {}, 'potato': {}, 'jute': {}})"
      ]
     },
     "execution_count": 6,
     "metadata": {},
     "output_type": "execute_result"
    }
   ],
   "source": [
    "models = {\"RandomForestRegressor\": RandomForestRegressor(),\n",
    "         \"KNeighborsRegressor\": KNeighborsRegressor(),\n",
    "         \"GradientBoostingRegressor\": GradientBoostingRegressor(),\n",
    "         \"AdaBoostRegressor\": AdaBoostRegressor(),\n",
    "         \"DecisionTreeRegressor\": DecisionTreeRegressor()}\n",
    "\n",
    "accuracy = {\"aus\": {},\n",
    "            \"aman\": {},\n",
    "            \"boro\": {},\n",
    "            \"wheat\": {},\n",
    "            \"potato\": {},\n",
    "            \"jute\": {}}\n",
    "\n",
    "exec_time = {\"aus\": {},\n",
    "            \"aman\": {},\n",
    "            \"boro\": {},\n",
    "            \"wheat\": {},\n",
    "            \"potato\": {},\n",
    "            \"jute\": {}}\n",
    "models, accuracy, exec_time"
   ]
  },
  {
   "cell_type": "markdown",
   "id": "indirect-assault",
   "metadata": {},
   "source": [
    "# Function to get accuracy score and Execution time"
   ]
  },
  {
   "cell_type": "code",
   "execution_count": 7,
   "id": "reasonable-rough",
   "metadata": {},
   "outputs": [],
   "source": [
    "def trainTestEx(models, X_train, X_test, y_train, y_test, name):\n",
    "  for model_name, model in models.items():\n",
    "    model.fit(X_train, y_train)\n",
    "    start_time = time.time()\n",
    "    model.predict(X_test)\n",
    "    end_time = time.time()\n",
    "    exec_time[name][model_name] = (end_time - start_time)\n",
    "    accuracy[name][model_name] = model.score(X_test, y_test)"
   ]
  },
  {
   "cell_type": "markdown",
   "id": "cooperative-tourist",
   "metadata": {},
   "source": [
    "# Function to plot Accuracy comparison bar"
   ]
  },
  {
   "cell_type": "code",
   "execution_count": 8,
   "id": "dimensional-spring",
   "metadata": {},
   "outputs": [],
   "source": [
    "def accuracyDataFrame(resultOfAccuracy, name):\n",
    "  dataframe_of_aus_accuracy_result = pd.DataFrame(resultOfAccuracy.values(),\n",
    "                          resultOfAccuracy.keys(),\n",
    "                          columns=[\"Accuracy for {}\".format(name)])\n",
    "  dataframe_of_aus_accuracy_result.plot.bar();"
   ]
  },
  {
   "cell_type": "markdown",
   "id": "ancient-particle",
   "metadata": {},
   "source": [
    "# Function to plot Execution comparison bar"
   ]
  },
  {
   "cell_type": "code",
   "execution_count": 9,
   "id": "romantic-accounting",
   "metadata": {},
   "outputs": [],
   "source": [
    "def executionDataFrame(resultOfexecution, name):\n",
    "  dataframe_of_aus_execution_result = pd.DataFrame(resultOfexecution.values(),\n",
    "                          resultOfexecution.keys(),\n",
    "                          columns=[\"Excecution for {}\".format(name)])\n",
    "  dataframe_of_aus_execution_result.plot.bar();"
   ]
  },
  {
   "cell_type": "markdown",
   "id": "functioning-hormone",
   "metadata": {},
   "source": [
    "# Training and Testing models (Aus)"
   ]
  },
  {
   "cell_type": "code",
   "execution_count": 10,
   "id": "phantom-sponsorship",
   "metadata": {},
   "outputs": [
    {
     "data": {
      "image/png": "[encoded data removed]",
      "text/plain": [
       "<Figure size 432x288 with 1 Axes>"
      ]
     },
     "metadata": {
      "needs_background": "light"
     },
     "output_type": "display_data"
    },
    {
     "data": {
      "image/png": "[encoded data removed]",
      "text/plain": [
       "<Figure size 432x288 with 1 Axes>"
      ]
     },
     "metadata": {
      "needs_background": "light"
     },
     "output_type": "display_data"
    }
   ],
   "source": [
    "name = \"aus\"\n",
    "\n",
    "trainTestEx(models, aus_X_train, aus_X_test, aus_y_train, aus_y_test, name)\n",
    "\n",
    "accuracyDataFrame(accuracy[name], name)\n",
    "\n",
    "#something\n",
    "\n",
    "executionDataFrame(exec_time[name], name)"
   ]
  },
  {
   "cell_type": "markdown",
   "id": "final-message",
   "metadata": {},
   "source": [
    "# Training and Testing models (Aman)"
   ]
  },
  {
   "cell_type": "code",
   "execution_count": 11,
   "id": "disabled-therapist",
   "metadata": {},
   "outputs": [
    {
     "data": {
      "image/png": "[encoded data removed]",
      "text/plain": [
       "<Figure size 432x288 with 1 Axes>"
      ]
     },
     "metadata": {
      "needs_background": "light"
     },
     "output_type": "display_data"
    },
    {
     "data": {
      "image/png": "[encoded data removed]",
      "text/plain": [
       "<Figure size 432x288 with 1 Axes>"
      ]
     },
     "metadata": {
      "needs_background": "light"
     },
     "output_type": "display_data"
    }
   ],
   "source": [
    "name = \"aman\"\n",
    "\n",
    "trainTestEx(models, aman_X_train, aman_X_test, aman_y_train, aman_y_test, name)\n",
    "\n",
    "accuracyDataFrame(accuracy[name], name)\n",
    "\n",
    "#something\n",
    "\n",
    "executionDataFrame(exec_time[name], name)"
   ]
  },
  {
   "cell_type": "markdown",
   "id": "knowing-removal",
   "metadata": {},
   "source": [
    "# Training and Testing models (Boro)"
   ]
  },
  {
   "cell_type": "code",
   "execution_count": 12,
   "id": "united-louis",
   "metadata": {
    "scrolled": false
   },
   "outputs": [
    {
     "data": {
      "image/png": "[encoded data removed]",
      "text/plain": [
       "<Figure size 432x288 with 1 Axes>"
      ]
     },
     "metadata": {
      "needs_background": "light"
     },
     "output_type": "display_data"
    },
    {
     "data": {
      "image/png": "[encoded data removed]",
      "text/plain": [
       "<Figure size 432x288 with 1 Axes>"
      ]
     },
     "metadata": {
      "needs_background": "light"
     },
     "output_type": "display_data"
    }
   ],
   "source": [
    "name = \"boro\"\n",
    "\n",
    "trainTestEx(models, boro_X_train, boro_X_test, boro_y_train, boro_y_test, name)\n",
    "\n",
    "accuracyDataFrame(accuracy[name], name)\n",
    "\n",
    "#something\n",
    "\n",
    "executionDataFrame(exec_time[name], name)"
   ]
  },
  {
   "cell_type": "markdown",
   "id": "criminal-valentine",
   "metadata": {},
   "source": [
    "# Training and Testing models (Wheat)"
   ]
  },
  {
   "cell_type": "code",
   "execution_count": 13,
   "id": "reflected-plenty",
   "metadata": {},
   "outputs": [
    {
     "data": {
      "image/png": "[encoded data removed]",
      "text/plain": [
       "<Figure size 432x288 with 1 Axes>"
      ]
     },
     "metadata": {
      "needs_background": "light"
     },
     "output_type": "display_data"
    },
    {
     "data": {
      "image/png": "[encoded data removed]",
      "text/plain": [
       "<Figure size 432x288 with 1 Axes>"
      ]
     },
     "metadata": {
      "needs_background": "light"
     },
     "output_type": "display_data"
    }
   ],
   "source": [
    "name = \"wheat\"\n",
    "\n",
    "trainTestEx(models, wheat_X_train, wheat_X_test, wheat_y_train, wheat_y_test, name)\n",
    "\n",
    "accuracyDataFrame(accuracy[name], name)\n",
    "\n",
    "#something\n",
    "\n",
    "executionDataFrame(exec_time[name], name)"
   ]
  },
  {
   "cell_type": "markdown",
   "id": "corporate-bishop",
   "metadata": {},
   "source": [
    "# Training and Testing models (Potato)"
   ]
  },
  {
   "cell_type": "code",
   "execution_count": 14,
   "id": "simplified-marketplace",
   "metadata": {},
   "outputs": [
    {
     "data": {
      "image/png": "[encoded data removed]",
      "text/plain": [
       "<Figure size 432x288 with 1 Axes>"
      ]
     },
     "metadata": {
      "needs_background": "light"
     },
     "output_type": "display_data"
    },
    {
     "data": {
      "image/png": "[encoded data removed]",
      "text/plain": [
       "<Figure size 432x288 with 1 Axes>"
      ]
     },
     "metadata": {
      "needs_background": "light"
     },
     "output_type": "display_data"
    }
   ],
   "source": [
    "name = \"potato\"\n",
    "\n",
    "trainTestEx(models, potato_X_train, potato_X_test, potato_y_train, potato_y_test, name)\n",
    "\n",
    "accuracyDataFrame(accuracy[name], name)\n",
    "\n",
    "#something\n",
    "\n",
    "executionDataFrame(exec_time[name], name)"
   ]
  },
  {
   "cell_type": "markdown",
   "id": "piano-comedy",
   "metadata": {},
   "source": [
    "# Training and Testing models (Jute)"
   ]
  },
  {
   "cell_type": "code",
   "execution_count": 15,
   "id": "artificial-switch",
   "metadata": {},
   "outputs": [
    {
     "data": {
      "image/png": "[encoded data removed]",
      "text/plain": [
       "<Figure size 432x288 with 1 Axes>"
      ]
     },
     "metadata": {
      "needs_background": "light"
     },
     "output_type": "display_data"
    },
    {
     "data": {
      "image/png": "[encoded data removed]",
      "text/plain": [
       "<Figure size 432x288 with 1 Axes>"
      ]
     },
     "metadata": {
      "needs_background": "light"
     },
     "output_type": "display_data"
    }
   ],
   "source": [
    "name = \"jute\"\n",
    "\n",
    "trainTestEx(models, jute_X_train, jute_X_test, jute_y_train, jute_y_test, name)\n",
    "\n",
    "accuracyDataFrame(accuracy[name], name)\n",
    "\n",
    "#something\n",
    "\n",
    "executionDataFrame(exec_time[name], name)"
   ]
  },
  {
   "cell_type": "markdown",
   "id": "outdoor-basket",
   "metadata": {},
   "source": [
    "# Mean Absolute Error for target (aus) is calculated"
   ]
  },
  {
   "cell_type": "code",
   "execution_count": 16,
   "id": "operating-valley",
   "metadata": {},
   "outputs": [
    {
     "name": "stdout",
     "output_type": "stream",
     "text": [
      "Mean Absolute Error of rfc: 2988.155\n",
      "Mean Absolute Error of knc: 2114.4142857142856\n",
      "Mean Absolute Error of gbr: 4362.227016119262\n",
      "Mean Absolute Error of abr: 4187.1724752093005\n",
      "Mean Absolute Error of dtr: 4082.9285714285716\n"
     ]
    }
   ],
   "source": [
    "from sklearn.metrics import mean_absolute_error\n",
    "\n",
    "prediction_rfc_aus = models[\"RandomForestRegressor\"].fit(aus_X_train, aus_y_train)\n",
    "prediction_knc_aus = models[\"KNeighborsRegressor\"].fit(aus_X_train, aus_y_train)\n",
    "prediction_gbr_aus = models[\"GradientBoostingRegressor\"].fit(aus_X_train, aus_y_train)\n",
    "prediction_abr_aus = models[\"AdaBoostRegressor\"].fit(aus_X_train, aus_y_train)\n",
    "prediction_dtr_aus = models[\"DecisionTreeRegressor\"].fit(aus_X_train, aus_y_train)\n",
    "\n",
    "prediction_rfc_aus = models[\"RandomForestRegressor\"].predict(aus_X_test)\n",
    "prediction_knc_aus = models[\"KNeighborsRegressor\"].predict(aus_X_test)\n",
    "prediction_gbr_aus = models[\"GradientBoostingRegressor\"].predict(aus_X_test)\n",
    "prediction_abr_aus = models[\"AdaBoostRegressor\"].predict(aus_X_test)\n",
    "prediction_dtr_aus = models[\"DecisionTreeRegressor\"].predict(aus_X_test)\n",
    "\n",
    "mae_rfc_aus = mean_absolute_error(aus_y_test, prediction_rfc_aus)\n",
    "mae_knc_aus = mean_absolute_error(aus_y_test, prediction_knc_aus)\n",
    "mae_gbr_aus = mean_absolute_error(aus_y_test, prediction_gbr_aus)\n",
    "mae_abr_aus = mean_absolute_error(aus_y_test, prediction_abr_aus)\n",
    "mae_dtr_aus = mean_absolute_error(aus_y_test, prediction_dtr_aus)\n",
    "\n",
    "print(\"Mean Absolute Error of rfc: {}\".format(mae_rfc_aus))\n",
    "print(\"Mean Absolute Error of knc: {}\".format(mae_knc_aus))\n",
    "print(\"Mean Absolute Error of gbr: {}\".format(mae_gbr_aus))\n",
    "print(\"Mean Absolute Error of abr: {}\".format(mae_abr_aus))\n",
    "print(\"Mean Absolute Error of dtr: {}\".format(mae_dtr_aus))"
   ]
  },
  {
   "cell_type": "markdown",
   "id": "addressed-ribbon",
   "metadata": {},
   "source": [
    "# Showing the comaparison using DataFrame"
   ]
  },
  {
   "cell_type": "code",
   "execution_count": 17,
   "id": "resident-nirvana",
   "metadata": {
    "scrolled": false
   },
   "outputs": [
    {
     "data": {
      "text/html": [
       "<div>\n",
       "<style scoped>\n",
       "    .dataframe tbody tr th:only-of-type {\n",
       "        vertical-align: middle;\n",
       "    }\n",
       "\n",
       "    .dataframe tbody tr th {\n",
       "        vertical-align: top;\n",
       "    }\n",
       "\n",
       "    .dataframe thead th {\n",
       "        text-align: right;\n",
       "    }\n",
       "</style>\n",
       "<table border=\"1\" class=\"dataframe\">\n",
       "  <thead>\n",
       "    <tr style=\"text-align: right;\">\n",
       "      <th></th>\n",
       "      <th>Actual value</th>\n",
       "      <th>predicted value of rfc</th>\n",
       "      <th>predicted value of knc</th>\n",
       "      <th>predicted value of gbr</th>\n",
       "      <th>predicted value of abr</th>\n",
       "      <th>predicted value of dtr</th>\n",
       "    </tr>\n",
       "  </thead>\n",
       "  <tbody>\n",
       "    <tr>\n",
       "      <th>19</th>\n",
       "      <td>71548</td>\n",
       "      <td>87298.77</td>\n",
       "      <td>77386.2</td>\n",
       "      <td>102950.687526</td>\n",
       "      <td>105097.608696</td>\n",
       "      <td>103901.0</td>\n",
       "    </tr>\n",
       "    <tr>\n",
       "      <th>60</th>\n",
       "      <td>1282</td>\n",
       "      <td>823.81</td>\n",
       "      <td>933.8</td>\n",
       "      <td>1086.351264</td>\n",
       "      <td>1026.500000</td>\n",
       "      <td>865.0</td>\n",
       "    </tr>\n",
       "    <tr>\n",
       "      <th>46</th>\n",
       "      <td>2129</td>\n",
       "      <td>1062.25</td>\n",
       "      <td>933.8</td>\n",
       "      <td>5827.732882</td>\n",
       "      <td>1021.272727</td>\n",
       "      <td>1545.0</td>\n",
       "    </tr>\n",
       "    <tr>\n",
       "      <th>11</th>\n",
       "      <td>1163</td>\n",
       "      <td>998.48</td>\n",
       "      <td>933.8</td>\n",
       "      <td>1769.862104</td>\n",
       "      <td>1027.000000</td>\n",
       "      <td>1545.0</td>\n",
       "    </tr>\n",
       "    <tr>\n",
       "      <th>4</th>\n",
       "      <td>447</td>\n",
       "      <td>965.34</td>\n",
       "      <td>933.8</td>\n",
       "      <td>877.066352</td>\n",
       "      <td>1081.571429</td>\n",
       "      <td>709.0</td>\n",
       "    </tr>\n",
       "    <tr>\n",
       "      <th>27</th>\n",
       "      <td>45441</td>\n",
       "      <td>48709.48</td>\n",
       "      <td>42949.0</td>\n",
       "      <td>38461.999428</td>\n",
       "      <td>43685.714286</td>\n",
       "      <td>33830.0</td>\n",
       "    </tr>\n",
       "    <tr>\n",
       "      <th>35</th>\n",
       "      <td>752</td>\n",
       "      <td>960.25</td>\n",
       "      <td>1323.2</td>\n",
       "      <td>1289.920387</td>\n",
       "      <td>1167.384615</td>\n",
       "      <td>1413.0</td>\n",
       "    </tr>\n",
       "    <tr>\n",
       "      <th>30</th>\n",
       "      <td>609</td>\n",
       "      <td>680.75</td>\n",
       "      <td>488.6</td>\n",
       "      <td>668.613274</td>\n",
       "      <td>1026.500000</td>\n",
       "      <td>383.0</td>\n",
       "    </tr>\n",
       "    <tr>\n",
       "      <th>63</th>\n",
       "      <td>1407</td>\n",
       "      <td>1294.80</td>\n",
       "      <td>1235.0</td>\n",
       "      <td>1353.449464</td>\n",
       "      <td>1183.294118</td>\n",
       "      <td>1431.0</td>\n",
       "    </tr>\n",
       "    <tr>\n",
       "      <th>18</th>\n",
       "      <td>907</td>\n",
       "      <td>824.43</td>\n",
       "      <td>933.8</td>\n",
       "      <td>4787.727962</td>\n",
       "      <td>1081.571429</td>\n",
       "      <td>1545.0</td>\n",
       "    </tr>\n",
       "    <tr>\n",
       "      <th>17</th>\n",
       "      <td>2220</td>\n",
       "      <td>1054.59</td>\n",
       "      <td>844.6</td>\n",
       "      <td>1083.366588</td>\n",
       "      <td>1055.200000</td>\n",
       "      <td>1591.0</td>\n",
       "    </tr>\n",
       "    <tr>\n",
       "      <th>42</th>\n",
       "      <td>948</td>\n",
       "      <td>1160.46</td>\n",
       "      <td>1235.0</td>\n",
       "      <td>1039.499740</td>\n",
       "      <td>1167.384615</td>\n",
       "      <td>1492.0</td>\n",
       "    </tr>\n",
       "    <tr>\n",
       "      <th>65</th>\n",
       "      <td>565</td>\n",
       "      <td>484.09</td>\n",
       "      <td>488.6</td>\n",
       "      <td>456.232881</td>\n",
       "      <td>940.000000</td>\n",
       "      <td>493.0</td>\n",
       "    </tr>\n",
       "    <tr>\n",
       "      <th>6</th>\n",
       "      <td>25072</td>\n",
       "      <td>43745.57</td>\n",
       "      <td>41455.0</td>\n",
       "      <td>36961.467622</td>\n",
       "      <td>43263.375000</td>\n",
       "      <td>33830.0</td>\n",
       "    </tr>\n",
       "  </tbody>\n",
       "</table>\n",
       "</div>"
      ],
      "text/plain": [
       "    Actual value  predicted value of rfc  predicted value of knc  \\\n",
       "19         71548                87298.77                 77386.2   \n",
       "60          1282                  823.81                   933.8   \n",
       "46          2129                 1062.25                   933.8   \n",
       "11          1163                  998.48                   933.8   \n",
       "4            447                  965.34                   933.8   \n",
       "27         45441                48709.48                 42949.0   \n",
       "35           752                  960.25                  1323.2   \n",
       "30           609                  680.75                   488.6   \n",
       "63          1407                 1294.80                  1235.0   \n",
       "18           907                  824.43                   933.8   \n",
       "17          2220                 1054.59                   844.6   \n",
       "42           948                 1160.46                  1235.0   \n",
       "65           565                  484.09                   488.6   \n",
       "6          25072                43745.57                 41455.0   \n",
       "\n",
       "    predicted value of gbr  predicted value of abr  predicted value of dtr  \n",
       "19           102950.687526           105097.608696                103901.0  \n",
       "60             1086.351264             1026.500000                   865.0  \n",
       "46             5827.732882             1021.272727                  1545.0  \n",
       "11             1769.862104             1027.000000                  1545.0  \n",
       "4               877.066352             1081.571429                   709.0  \n",
       "27            38461.999428            43685.714286                 33830.0  \n",
       "35             1289.920387             1167.384615                  1413.0  \n",
       "30              668.613274             1026.500000                   383.0  \n",
       "63             1353.449464             1183.294118                  1431.0  \n",
       "18             4787.727962             1081.571429                  1545.0  \n",
       "17             1083.366588             1055.200000                  1591.0  \n",
       "42             1039.499740             1167.384615                  1492.0  \n",
       "65              456.232881              940.000000                   493.0  \n",
       "6             36961.467622            43263.375000                 33830.0  "
      ]
     },
     "execution_count": 17,
     "metadata": {},
     "output_type": "execute_result"
    }
   ],
   "source": [
    "com_aus_df = pd.DataFrame(data={\"Actual value\": aus_y_test,\n",
    "                                   \"predicted value of rfc\": prediction_rfc_aus,\n",
    "                                   \"predicted value of knc\": prediction_knc_aus,\n",
    "                                   \"predicted value of gbr\": prediction_gbr_aus,\n",
    "                                   \"predicted value of abr\": prediction_abr_aus,\n",
    "                                   \"predicted value of dtr\": prediction_dtr_aus,})\n",
    "\n",
    "com_aus_df"
   ]
  },
  {
   "cell_type": "markdown",
   "id": "brave-savage",
   "metadata": {},
   "source": [
    "# Yielding result for test set \n",
    "* Target (Aus)\n",
    "* The test cases will be compared later\n",
    "* If you want to change test data set than comment our np.random.seed line\n",
    "\n",
    "# Should only calculate for the algo which has less error"
   ]
  },
  {
   "cell_type": "code",
   "execution_count": 18,
   "id": "distinguished-engineering",
   "metadata": {},
   "outputs": [],
   "source": [
    "np.random.seed(3)\n",
    "\n",
    "test_arr = np.random.randint(500, 100000, (1,45))"
   ]
  },
  {
   "cell_type": "markdown",
   "id": "entertaining-legislation",
   "metadata": {},
   "source": [
    "### Random Forest regressor"
   ]
  },
  {
   "cell_type": "code",
   "execution_count": 19,
   "id": "hollywood-skiing",
   "metadata": {},
   "outputs": [
    {
     "data": {
      "text/plain": [
       "6510.44"
      ]
     },
     "execution_count": 19,
     "metadata": {},
     "output_type": "execute_result"
    }
   ],
   "source": [
    "np.random.seed(3)\n",
    "\n",
    "models[\"RandomForestRegressor\"].fit(aus_X_train, aus_y_train)\n",
    "test_predict_aus_rfc = float(models[\"RandomForestRegressor\"].predict(test_arr))\n",
    "test_predict_aus_rfc"
   ]
  },
  {
   "cell_type": "markdown",
   "id": "incoming-consortium",
   "metadata": {},
   "source": [
    "### KNeighbors Regressor"
   ]
  },
  {
   "cell_type": "code",
   "execution_count": 20,
   "id": "accepted-google",
   "metadata": {},
   "outputs": [
    {
     "data": {
      "text/plain": [
       "984.2"
      ]
     },
     "execution_count": 20,
     "metadata": {},
     "output_type": "execute_result"
    }
   ],
   "source": [
    "np.random.seed(3)\n",
    "\n",
    "models[\"KNeighborsRegressor\"].fit(aus_X_train, aus_y_train)\n",
    "test_predict_aus_knc = float(models[\"KNeighborsRegressor\"].predict(test_arr))\n",
    "test_predict_aus_knc"
   ]
  },
  {
   "cell_type": "markdown",
   "id": "hairy-remark",
   "metadata": {},
   "source": [
    "### Gradient Boosting Regressor\n",
    "* In our case this algo gives us more accurate result comparing with others"
   ]
  },
  {
   "cell_type": "code",
   "execution_count": 21,
   "id": "demonstrated-machinery",
   "metadata": {},
   "outputs": [
    {
     "data": {
      "text/plain": [
       "10195.984175769298"
      ]
     },
     "execution_count": 21,
     "metadata": {},
     "output_type": "execute_result"
    }
   ],
   "source": [
    "np.random.seed(3)\n",
    "\n",
    "models[\"GradientBoostingRegressor\"].fit(aus_X_train, aus_y_train)\n",
    "test_predict_aus_gbr = float(models[\"GradientBoostingRegressor\"].predict(test_arr))\n",
    "yield_for_aus = test_predict_aus_gbr\n",
    "\n",
    "yield_for_aus"
   ]
  },
  {
   "cell_type": "markdown",
   "id": "genetic-blowing",
   "metadata": {},
   "source": [
    "### Ada Boost Regressor"
   ]
  },
  {
   "cell_type": "code",
   "execution_count": 22,
   "id": "plain-antibody",
   "metadata": {},
   "outputs": [
    {
     "data": {
      "text/plain": [
       "33845.0"
      ]
     },
     "execution_count": 22,
     "metadata": {},
     "output_type": "execute_result"
    }
   ],
   "source": [
    "np.random.seed(3)\n",
    "\n",
    "models[\"AdaBoostRegressor\"].fit(aus_X_train, aus_y_train)\n",
    "test_predict_aus_abr = float(models[\"AdaBoostRegressor\"].predict(test_arr))\n",
    "test_predict_aus_abr"
   ]
  },
  {
   "cell_type": "markdown",
   "id": "solid-orientation",
   "metadata": {},
   "source": [
    "### DecisionTree Regressor"
   ]
  },
  {
   "cell_type": "code",
   "execution_count": 23,
   "id": "brutal-pride",
   "metadata": {},
   "outputs": [
    {
     "data": {
      "text/plain": [
       "6324.0"
      ]
     },
     "execution_count": 23,
     "metadata": {},
     "output_type": "execute_result"
    }
   ],
   "source": [
    "np.random.seed(3)\n",
    "\n",
    "models[\"DecisionTreeRegressor\"].fit(aus_X_train, aus_y_train)\n",
    "test_predict_aus_dtr = float(models[\"DecisionTreeRegressor\"].predict(test_arr))\n",
    "test_predict_aus_dtr"
   ]
  },
  {
   "cell_type": "markdown",
   "id": "threaded-cursor",
   "metadata": {},
   "source": [
    "# Mean Absolute Error for target (Aman) is calculated\n",
    "## In this section we will only test with the algorithm that has lowest MAE"
   ]
  },
  {
   "cell_type": "code",
   "execution_count": 24,
   "id": "supreme-damage",
   "metadata": {
    "scrolled": true
   },
   "outputs": [
    {
     "name": "stdout",
     "output_type": "stream",
     "text": [
      "Mean Absolute Error of rfc: 29190.958571428575\n",
      "Mean Absolute Error of knc: 29023.885714285716\n",
      "Mean Absolute Error of gbr: 40456.43020320621\n",
      "Mean Absolute Error of abr: 39107.67548403977\n",
      "Mean Absolute Error of dtr: 44867.57142857143\n"
     ]
    }
   ],
   "source": [
    "from sklearn.metrics import mean_absolute_error\n",
    "\n",
    "prediction_rfc_aman = models[\"RandomForestRegressor\"].fit(aman_X_train, aman_y_train)\n",
    "prediction_knc_aman = models[\"KNeighborsRegressor\"].fit(aman_X_train, aman_y_train)\n",
    "prediction_gbr_aman = models[\"GradientBoostingRegressor\"].fit(aman_X_train, aman_y_train)\n",
    "prediction_abr_aman = models[\"AdaBoostRegressor\"].fit(aman_X_train, aman_y_train)\n",
    "prediction_dtr_aman = models[\"DecisionTreeRegressor\"].fit(aman_X_train, aman_y_train)\n",
    "\n",
    "prediction_rfc_aman = models[\"RandomForestRegressor\"].predict(aman_X_test)\n",
    "prediction_knc_aman = models[\"KNeighborsRegressor\"].predict(aman_X_test)\n",
    "prediction_gbr_aman = models[\"GradientBoostingRegressor\"].predict(aman_X_test)\n",
    "prediction_abr_aman = models[\"AdaBoostRegressor\"].predict(aman_X_test)\n",
    "prediction_dtr_aman = models[\"DecisionTreeRegressor\"].predict(aman_X_test)\n",
    "\n",
    "mae_rfc_aman = mean_absolute_error(aman_y_test, prediction_rfc_aman)\n",
    "mae_knc_aman = mean_absolute_error(aman_y_test, prediction_knc_aman)\n",
    "mae_gbr_aman = mean_absolute_error(aman_y_test, prediction_gbr_aman)\n",
    "mae_abr_aman = mean_absolute_error(aman_y_test, prediction_abr_aman)\n",
    "mae_dtr_aman = mean_absolute_error(aman_y_test, prediction_dtr_aman)\n",
    "\n",
    "print(\"Mean Absolute Error of rfc: {}\".format(mae_rfc_aman))\n",
    "print(\"Mean Absolute Error of knc: {}\".format(mae_knc_aman))\n",
    "print(\"Mean Absolute Error of gbr: {}\".format(mae_gbr_aman))\n",
    "print(\"Mean Absolute Error of abr: {}\".format(mae_abr_aman))\n",
    "print(\"Mean Absolute Error of dtr: {}\".format(mae_dtr_aman))"
   ]
  },
  {
   "cell_type": "markdown",
   "id": "coupled-princeton",
   "metadata": {},
   "source": [
    "# Showing the comaparison using DataFrame"
   ]
  },
  {
   "cell_type": "code",
   "execution_count": 25,
   "id": "little-virginia",
   "metadata": {},
   "outputs": [
    {
     "data": {
      "text/html": [
       "<div>\n",
       "<style scoped>\n",
       "    .dataframe tbody tr th:only-of-type {\n",
       "        vertical-align: middle;\n",
       "    }\n",
       "\n",
       "    .dataframe tbody tr th {\n",
       "        vertical-align: top;\n",
       "    }\n",
       "\n",
       "    .dataframe thead th {\n",
       "        text-align: right;\n",
       "    }\n",
       "</style>\n",
       "<table border=\"1\" class=\"dataframe\">\n",
       "  <thead>\n",
       "    <tr style=\"text-align: right;\">\n",
       "      <th></th>\n",
       "      <th>Actual value Aman</th>\n",
       "      <th>predicted value of rfc</th>\n",
       "      <th>predicted value of knc</th>\n",
       "      <th>predicted value of gbr</th>\n",
       "      <th>predicted value of abr</th>\n",
       "      <th>predicted value of dtr</th>\n",
       "    </tr>\n",
       "  </thead>\n",
       "  <tbody>\n",
       "    <tr>\n",
       "      <th>48</th>\n",
       "      <td>175719</td>\n",
       "      <td>350083.59</td>\n",
       "      <td>283363.2</td>\n",
       "      <td>419089.417020</td>\n",
       "      <td>479799.000000</td>\n",
       "      <td>501047.0</td>\n",
       "    </tr>\n",
       "    <tr>\n",
       "      <th>62</th>\n",
       "      <td>202701</td>\n",
       "      <td>242700.15</td>\n",
       "      <td>303430.4</td>\n",
       "      <td>329411.793292</td>\n",
       "      <td>231345.761905</td>\n",
       "      <td>140425.0</td>\n",
       "    </tr>\n",
       "    <tr>\n",
       "      <th>32</th>\n",
       "      <td>266992</td>\n",
       "      <td>269479.59</td>\n",
       "      <td>256447.8</td>\n",
       "      <td>268787.696794</td>\n",
       "      <td>252525.750000</td>\n",
       "      <td>285921.0</td>\n",
       "    </tr>\n",
       "    <tr>\n",
       "      <th>29</th>\n",
       "      <td>116994</td>\n",
       "      <td>107940.51</td>\n",
       "      <td>109613.2</td>\n",
       "      <td>115295.381348</td>\n",
       "      <td>111754.600000</td>\n",
       "      <td>101542.0</td>\n",
       "    </tr>\n",
       "    <tr>\n",
       "      <th>21</th>\n",
       "      <td>26151</td>\n",
       "      <td>22842.58</td>\n",
       "      <td>26689.4</td>\n",
       "      <td>29459.348493</td>\n",
       "      <td>20944.500000</td>\n",
       "      <td>28872.0</td>\n",
       "    </tr>\n",
       "    <tr>\n",
       "      <th>51</th>\n",
       "      <td>91527</td>\n",
       "      <td>90305.85</td>\n",
       "      <td>91739.2</td>\n",
       "      <td>96163.480206</td>\n",
       "      <td>103619.750000</td>\n",
       "      <td>89870.0</td>\n",
       "    </tr>\n",
       "    <tr>\n",
       "      <th>60</th>\n",
       "      <td>277697</td>\n",
       "      <td>272663.19</td>\n",
       "      <td>256447.8</td>\n",
       "      <td>259941.066862</td>\n",
       "      <td>250360.000000</td>\n",
       "      <td>285921.0</td>\n",
       "    </tr>\n",
       "    <tr>\n",
       "      <th>16</th>\n",
       "      <td>109773</td>\n",
       "      <td>94242.69</td>\n",
       "      <td>94806.8</td>\n",
       "      <td>94676.785099</td>\n",
       "      <td>104250.250000</td>\n",
       "      <td>107112.0</td>\n",
       "    </tr>\n",
       "    <tr>\n",
       "      <th>18</th>\n",
       "      <td>250758</td>\n",
       "      <td>266505.68</td>\n",
       "      <td>256447.8</td>\n",
       "      <td>264516.604443</td>\n",
       "      <td>244348.166667</td>\n",
       "      <td>232731.0</td>\n",
       "    </tr>\n",
       "    <tr>\n",
       "      <th>67</th>\n",
       "      <td>262172</td>\n",
       "      <td>283164.26</td>\n",
       "      <td>256447.8</td>\n",
       "      <td>284275.692294</td>\n",
       "      <td>251841.250000</td>\n",
       "      <td>241394.0</td>\n",
       "    </tr>\n",
       "    <tr>\n",
       "      <th>17</th>\n",
       "      <td>19742</td>\n",
       "      <td>16348.28</td>\n",
       "      <td>14331.6</td>\n",
       "      <td>15379.034607</td>\n",
       "      <td>20252.000000</td>\n",
       "      <td>18736.0</td>\n",
       "    </tr>\n",
       "    <tr>\n",
       "      <th>59</th>\n",
       "      <td>9945</td>\n",
       "      <td>15312.34</td>\n",
       "      <td>14848.4</td>\n",
       "      <td>12467.231361</td>\n",
       "      <td>20252.000000</td>\n",
       "      <td>13100.0</td>\n",
       "    </tr>\n",
       "    <tr>\n",
       "      <th>12</th>\n",
       "      <td>550642</td>\n",
       "      <td>573748.88</td>\n",
       "      <td>586454.2</td>\n",
       "      <td>580198.076009</td>\n",
       "      <td>587762.000000</td>\n",
       "      <td>636761.0</td>\n",
       "    </tr>\n",
       "    <tr>\n",
       "      <th>4</th>\n",
       "      <td>170918</td>\n",
       "      <td>259985.03</td>\n",
       "      <td>256447.8</td>\n",
       "      <td>250631.950850</td>\n",
       "      <td>251158.461538</td>\n",
       "      <td>232731.0</td>\n",
       "    </tr>\n",
       "  </tbody>\n",
       "</table>\n",
       "</div>"
      ],
      "text/plain": [
       "    Actual value Aman  predicted value of rfc  predicted value of knc  \\\n",
       "48             175719               350083.59                283363.2   \n",
       "62             202701               242700.15                303430.4   \n",
       "32             266992               269479.59                256447.8   \n",
       "29             116994               107940.51                109613.2   \n",
       "21              26151                22842.58                 26689.4   \n",
       "51              91527                90305.85                 91739.2   \n",
       "60             277697               272663.19                256447.8   \n",
       "16             109773                94242.69                 94806.8   \n",
       "18             250758               266505.68                256447.8   \n",
       "67             262172               283164.26                256447.8   \n",
       "17              19742                16348.28                 14331.6   \n",
       "59               9945                15312.34                 14848.4   \n",
       "12             550642               573748.88                586454.2   \n",
       "4              170918               259985.03                256447.8   \n",
       "\n",
       "    predicted value of gbr  predicted value of abr  predicted value of dtr  \n",
       "48           419089.417020           479799.000000                501047.0  \n",
       "62           329411.793292           231345.761905                140425.0  \n",
       "32           268787.696794           252525.750000                285921.0  \n",
       "29           115295.381348           111754.600000                101542.0  \n",
       "21            29459.348493            20944.500000                 28872.0  \n",
       "51            96163.480206           103619.750000                 89870.0  \n",
       "60           259941.066862           250360.000000                285921.0  \n",
       "16            94676.785099           104250.250000                107112.0  \n",
       "18           264516.604443           244348.166667                232731.0  \n",
       "67           284275.692294           251841.250000                241394.0  \n",
       "17            15379.034607            20252.000000                 18736.0  \n",
       "59            12467.231361            20252.000000                 13100.0  \n",
       "12           580198.076009           587762.000000                636761.0  \n",
       "4            250631.950850           251158.461538                232731.0  "
      ]
     },
     "execution_count": 25,
     "metadata": {},
     "output_type": "execute_result"
    }
   ],
   "source": [
    "com_aman_df = pd.DataFrame(data={\"Actual value Aman\": aman_y_test,\n",
    "                                   \"predicted value of rfc\": prediction_rfc_aman,\n",
    "                                   \"predicted value of knc\": prediction_knc_aman,\n",
    "                                   \"predicted value of gbr\": prediction_gbr_aman,\n",
    "                                   \"predicted value of abr\": prediction_abr_aman,\n",
    "                                   \"predicted value of dtr\": prediction_dtr_aman,})\n",
    "\n",
    "com_aman_df"
   ]
  },
  {
   "cell_type": "markdown",
   "id": "enclosed-innocent",
   "metadata": {},
   "source": [
    "### Random Forest Algorithm\n",
    "* In our case this algo gives us more accurate result comparing with others"
   ]
  },
  {
   "cell_type": "code",
   "execution_count": 26,
   "id": "nearby-strike",
   "metadata": {},
   "outputs": [
    {
     "data": {
      "text/plain": [
       "233930.07"
      ]
     },
     "execution_count": 26,
     "metadata": {},
     "output_type": "execute_result"
    }
   ],
   "source": [
    "np.random.seed(3)\n",
    "\n",
    "models[\"RandomForestRegressor\"].fit(aman_X_train, aman_y_train)\n",
    "test_predict_aman_rfc = float(models[\"RandomForestRegressor\"].predict(test_arr))\n",
    "\n",
    "yield_for_aman = test_predict_aman_rfc\n",
    "yield_for_aman"
   ]
  },
  {
   "cell_type": "markdown",
   "id": "continental-sterling",
   "metadata": {},
   "source": [
    "# Mean Absolute Error for target (Boro) is calculated\n",
    "## In this section we will only test with the algorithm that has lowest MAE"
   ]
  },
  {
   "cell_type": "code",
   "execution_count": 27,
   "id": "pregnant-amount",
   "metadata": {
    "scrolled": true
   },
   "outputs": [
    {
     "name": "stdout",
     "output_type": "stream",
     "text": [
      "Mean Absolute Error of rfc: 58496.665\n",
      "Mean Absolute Error of knc: 77363.84285714287\n",
      "Mean Absolute Error of gbr: 76172.70665476882\n",
      "Mean Absolute Error of abr: 73071.0484658199\n",
      "Mean Absolute Error of dtr: 77558.64285714286\n"
     ]
    }
   ],
   "source": [
    "from sklearn.metrics import mean_absolute_error\n",
    "\n",
    "np.random.seed(0)\n",
    "\n",
    "prediction_rfc_boro = models[\"RandomForestRegressor\"].fit(boro_X_train, boro_y_train)\n",
    "prediction_knc_boro = models[\"KNeighborsRegressor\"].fit(boro_X_train, boro_y_train)\n",
    "prediction_gbr_boro = models[\"GradientBoostingRegressor\"].fit(boro_X_train, boro_y_train)\n",
    "prediction_abr_boro = models[\"AdaBoostRegressor\"].fit(boro_X_train, boro_y_train)\n",
    "prediction_dtr_boro = models[\"DecisionTreeRegressor\"].fit(boro_X_train, boro_y_train)\n",
    "\n",
    "prediction_rfc_boro = models[\"RandomForestRegressor\"].predict(boro_X_test)\n",
    "prediction_knc_boro = models[\"KNeighborsRegressor\"].predict(boro_X_test)\n",
    "prediction_gbr_boro = models[\"GradientBoostingRegressor\"].predict(boro_X_test)\n",
    "prediction_abr_boro = models[\"AdaBoostRegressor\"].predict(boro_X_test)\n",
    "prediction_dtr_boro = models[\"DecisionTreeRegressor\"].predict(boro_X_test)\n",
    "\n",
    "mae_rfc_boro = mean_absolute_error(boro_y_test, prediction_rfc_boro)\n",
    "mae_knc_boro = mean_absolute_error(boro_y_test, prediction_knc_boro)\n",
    "mae_gbr_boro = mean_absolute_error(boro_y_test, prediction_gbr_boro)\n",
    "mae_abr_boro = mean_absolute_error(boro_y_test, prediction_abr_boro)\n",
    "mae_dtr_boro = mean_absolute_error(boro_y_test, prediction_dtr_boro)\n",
    "\n",
    "print(\"Mean Absolute Error of rfc: {}\".format(mae_rfc_boro))\n",
    "print(\"Mean Absolute Error of knc: {}\".format(mae_knc_boro))\n",
    "print(\"Mean Absolute Error of gbr: {}\".format(mae_gbr_boro))\n",
    "print(\"Mean Absolute Error of abr: {}\".format(mae_abr_boro))\n",
    "print(\"Mean Absolute Error of dtr: {}\".format(mae_dtr_boro))"
   ]
  },
  {
   "cell_type": "markdown",
   "id": "national-plaza",
   "metadata": {},
   "source": [
    "# Showing the comaparison using DataFrame"
   ]
  },
  {
   "cell_type": "code",
   "execution_count": 28,
   "id": "parental-funds",
   "metadata": {
    "scrolled": true
   },
   "outputs": [
    {
     "data": {
      "text/html": [
       "<div>\n",
       "<style scoped>\n",
       "    .dataframe tbody tr th:only-of-type {\n",
       "        vertical-align: middle;\n",
       "    }\n",
       "\n",
       "    .dataframe tbody tr th {\n",
       "        vertical-align: top;\n",
       "    }\n",
       "\n",
       "    .dataframe thead th {\n",
       "        text-align: right;\n",
       "    }\n",
       "</style>\n",
       "<table border=\"1\" class=\"dataframe\">\n",
       "  <thead>\n",
       "    <tr style=\"text-align: right;\">\n",
       "      <th></th>\n",
       "      <th>Actual value boro</th>\n",
       "      <th>predicted value of rfc</th>\n",
       "      <th>predicted value of knc</th>\n",
       "      <th>predicted value of gbr</th>\n",
       "      <th>predicted value of abr</th>\n",
       "      <th>predicted value of dtr</th>\n",
       "    </tr>\n",
       "  </thead>\n",
       "  <tbody>\n",
       "    <tr>\n",
       "      <th>55</th>\n",
       "      <td>713696</td>\n",
       "      <td>939083.06</td>\n",
       "      <td>1112956.2</td>\n",
       "      <td>8.042870e+05</td>\n",
       "      <td>7.006508e+05</td>\n",
       "      <td>682506.0</td>\n",
       "    </tr>\n",
       "    <tr>\n",
       "      <th>42</th>\n",
       "      <td>200560</td>\n",
       "      <td>212899.81</td>\n",
       "      <td>215979.8</td>\n",
       "      <td>2.116720e+05</td>\n",
       "      <td>2.162584e+05</td>\n",
       "      <td>211933.0</td>\n",
       "    </tr>\n",
       "    <tr>\n",
       "      <th>60</th>\n",
       "      <td>725634</td>\n",
       "      <td>753082.53</td>\n",
       "      <td>664853.0</td>\n",
       "      <td>6.922076e+05</td>\n",
       "      <td>6.962902e+05</td>\n",
       "      <td>700906.0</td>\n",
       "    </tr>\n",
       "    <tr>\n",
       "      <th>49</th>\n",
       "      <td>205638</td>\n",
       "      <td>216305.69</td>\n",
       "      <td>211265.0</td>\n",
       "      <td>2.204626e+05</td>\n",
       "      <td>2.184935e+05</td>\n",
       "      <td>203305.0</td>\n",
       "    </tr>\n",
       "    <tr>\n",
       "      <th>50</th>\n",
       "      <td>231718</td>\n",
       "      <td>243966.85</td>\n",
       "      <td>225738.2</td>\n",
       "      <td>2.409952e+05</td>\n",
       "      <td>2.341860e+05</td>\n",
       "      <td>247999.0</td>\n",
       "    </tr>\n",
       "    <tr>\n",
       "      <th>69</th>\n",
       "      <td>503363</td>\n",
       "      <td>884789.69</td>\n",
       "      <td>959517.2</td>\n",
       "      <td>1.251090e+06</td>\n",
       "      <td>1.343510e+06</td>\n",
       "      <td>1343510.0</td>\n",
       "    </tr>\n",
       "    <tr>\n",
       "      <th>64</th>\n",
       "      <td>223605</td>\n",
       "      <td>232105.67</td>\n",
       "      <td>232453.0</td>\n",
       "      <td>2.410946e+05</td>\n",
       "      <td>2.266947e+05</td>\n",
       "      <td>228161.0</td>\n",
       "    </tr>\n",
       "    <tr>\n",
       "      <th>53</th>\n",
       "      <td>729912</td>\n",
       "      <td>746149.77</td>\n",
       "      <td>667945.8</td>\n",
       "      <td>7.592566e+05</td>\n",
       "      <td>6.991085e+05</td>\n",
       "      <td>700906.0</td>\n",
       "    </tr>\n",
       "    <tr>\n",
       "      <th>32</th>\n",
       "      <td>658508</td>\n",
       "      <td>666180.87</td>\n",
       "      <td>667945.8</td>\n",
       "      <td>6.533384e+05</td>\n",
       "      <td>6.814238e+05</td>\n",
       "      <td>658469.0</td>\n",
       "    </tr>\n",
       "    <tr>\n",
       "      <th>45</th>\n",
       "      <td>117576</td>\n",
       "      <td>109219.70</td>\n",
       "      <td>109140.0</td>\n",
       "      <td>1.076667e+05</td>\n",
       "      <td>1.182180e+05</td>\n",
       "      <td>99814.0</td>\n",
       "    </tr>\n",
       "    <tr>\n",
       "      <th>2</th>\n",
       "      <td>207669</td>\n",
       "      <td>217507.57</td>\n",
       "      <td>212231.0</td>\n",
       "      <td>2.147887e+05</td>\n",
       "      <td>2.159162e+05</td>\n",
       "      <td>223980.0</td>\n",
       "    </tr>\n",
       "    <tr>\n",
       "      <th>4</th>\n",
       "      <td>672851</td>\n",
       "      <td>725681.48</td>\n",
       "      <td>667945.8</td>\n",
       "      <td>7.187833e+05</td>\n",
       "      <td>6.798001e+05</td>\n",
       "      <td>645116.0</td>\n",
       "    </tr>\n",
       "    <tr>\n",
       "      <th>35</th>\n",
       "      <td>190646</td>\n",
       "      <td>215385.75</td>\n",
       "      <td>211265.0</td>\n",
       "      <td>2.101067e+05</td>\n",
       "      <td>2.119900e+05</td>\n",
       "      <td>226879.0</td>\n",
       "    </tr>\n",
       "    <tr>\n",
       "      <th>0</th>\n",
       "      <td>233939</td>\n",
       "      <td>212680.73</td>\n",
       "      <td>212841.4</td>\n",
       "      <td>2.089053e+05</td>\n",
       "      <td>2.184935e+05</td>\n",
       "      <td>205812.0</td>\n",
       "    </tr>\n",
       "  </tbody>\n",
       "</table>\n",
       "</div>"
      ],
      "text/plain": [
       "    Actual value boro  predicted value of rfc  predicted value of knc  \\\n",
       "55             713696               939083.06               1112956.2   \n",
       "42             200560               212899.81                215979.8   \n",
       "60             725634               753082.53                664853.0   \n",
       "49             205638               216305.69                211265.0   \n",
       "50             231718               243966.85                225738.2   \n",
       "69             503363               884789.69                959517.2   \n",
       "64             223605               232105.67                232453.0   \n",
       "53             729912               746149.77                667945.8   \n",
       "32             658508               666180.87                667945.8   \n",
       "45             117576               109219.70                109140.0   \n",
       "2              207669               217507.57                212231.0   \n",
       "4              672851               725681.48                667945.8   \n",
       "35             190646               215385.75                211265.0   \n",
       "0              233939               212680.73                212841.4   \n",
       "\n",
       "    predicted value of gbr  predicted value of abr  predicted value of dtr  \n",
       "55            8.042870e+05            7.006508e+05                682506.0  \n",
       "42            2.116720e+05            2.162584e+05                211933.0  \n",
       "60            6.922076e+05            6.962902e+05                700906.0  \n",
       "49            2.204626e+05            2.184935e+05                203305.0  \n",
       "50            2.409952e+05            2.341860e+05                247999.0  \n",
       "69            1.251090e+06            1.343510e+06               1343510.0  \n",
       "64            2.410946e+05            2.266947e+05                228161.0  \n",
       "53            7.592566e+05            6.991085e+05                700906.0  \n",
       "32            6.533384e+05            6.814238e+05                658469.0  \n",
       "45            1.076667e+05            1.182180e+05                 99814.0  \n",
       "2             2.147887e+05            2.159162e+05                223980.0  \n",
       "4             7.187833e+05            6.798001e+05                645116.0  \n",
       "35            2.101067e+05            2.119900e+05                226879.0  \n",
       "0             2.089053e+05            2.184935e+05                205812.0  "
      ]
     },
     "execution_count": 28,
     "metadata": {},
     "output_type": "execute_result"
    }
   ],
   "source": [
    "com_boro_df = pd.DataFrame(data={\"Actual value boro\": boro_y_test,\n",
    "                                   \"predicted value of rfc\": prediction_rfc_boro,\n",
    "                                   \"predicted value of knc\": prediction_knc_boro,\n",
    "                                   \"predicted value of gbr\": prediction_gbr_boro,\n",
    "                                   \"predicted value of abr\": prediction_abr_boro,\n",
    "                                   \"predicted value of dtr\": prediction_dtr_boro,})\n",
    "\n",
    "com_boro_df"
   ]
  },
  {
   "cell_type": "markdown",
   "id": "contained-subcommittee",
   "metadata": {},
   "source": [
    "### Ada Boosting Regressor Algorithm\n",
    "* In our case this algo gives us more accurate result comparing with others"
   ]
  },
  {
   "cell_type": "code",
   "execution_count": 29,
   "id": "north-arthritis",
   "metadata": {
    "scrolled": true
   },
   "outputs": [
    {
     "data": {
      "text/plain": [
       "698424.6666666666"
      ]
     },
     "execution_count": 29,
     "metadata": {},
     "output_type": "execute_result"
    }
   ],
   "source": [
    "np.random.seed(3)\n",
    "\n",
    "models[\"AdaBoostRegressor\"].fit(boro_X_train, boro_y_train)\n",
    "test_predict_boro_abr = float(models[\"AdaBoostRegressor\"].predict(test_arr))\n",
    "\n",
    "yield_for_boro = test_predict_boro_abr\n",
    "yield_for_boro"
   ]
  },
  {
   "cell_type": "markdown",
   "id": "unnecessary-filing",
   "metadata": {},
   "source": [
    "# Mean Absolute Error for target (Wheat) is calculated\n",
    "## In this section we will only test with the algorithm that has lowest MAE"
   ]
  },
  {
   "cell_type": "code",
   "execution_count": 30,
   "id": "elementary-leonard",
   "metadata": {},
   "outputs": [
    {
     "name": "stdout",
     "output_type": "stream",
     "text": [
      "Mean Absolute Error of rfc: 1442.0557142857144\n",
      "Mean Absolute Error of knc: 1295.6571428571426\n",
      "Mean Absolute Error of gbr: 1486.3515113868464\n",
      "Mean Absolute Error of abr: 1754.9226740211136\n",
      "Mean Absolute Error of dtr: 2453.0714285714284\n"
     ]
    }
   ],
   "source": [
    "from sklearn.metrics import mean_absolute_error\n",
    "\n",
    "np.random.seed(0)\n",
    "\n",
    "prediction_rfc_wheat = models[\"RandomForestRegressor\"].fit(wheat_X_train, wheat_y_train)\n",
    "prediction_knc_wheat = models[\"KNeighborsRegressor\"].fit(wheat_X_train, wheat_y_train)\n",
    "prediction_gbr_wheat = models[\"GradientBoostingRegressor\"].fit(wheat_X_train, wheat_y_train)\n",
    "prediction_abr_wheat = models[\"AdaBoostRegressor\"].fit(wheat_X_train, wheat_y_train)\n",
    "prediction_dtr_wheat = models[\"DecisionTreeRegressor\"].fit(wheat_X_train, wheat_y_train)\n",
    "\n",
    "prediction_rfc_wheat = models[\"RandomForestRegressor\"].predict(wheat_X_test)\n",
    "prediction_knc_wheat = models[\"KNeighborsRegressor\"].predict(wheat_X_test)\n",
    "prediction_gbr_wheat = models[\"GradientBoostingRegressor\"].predict(wheat_X_test)\n",
    "prediction_abr_wheat = models[\"AdaBoostRegressor\"].predict(wheat_X_test)\n",
    "prediction_dtr_wheat = models[\"DecisionTreeRegressor\"].predict(wheat_X_test)\n",
    "\n",
    "mae_rfc_wheat = mean_absolute_error(wheat_y_test, prediction_rfc_wheat)\n",
    "mae_knc_wheat = mean_absolute_error(wheat_y_test, prediction_knc_wheat)\n",
    "mae_gbr_wheat = mean_absolute_error(wheat_y_test, prediction_gbr_wheat)\n",
    "mae_abr_wheat = mean_absolute_error(wheat_y_test, prediction_abr_wheat)\n",
    "mae_dtr_wheat = mean_absolute_error(wheat_y_test, prediction_dtr_wheat)\n",
    "\n",
    "print(\"Mean Absolute Error of rfc: {}\".format(mae_rfc_wheat))\n",
    "print(\"Mean Absolute Error of knc: {}\".format(mae_knc_wheat))\n",
    "print(\"Mean Absolute Error of gbr: {}\".format(mae_gbr_wheat))\n",
    "print(\"Mean Absolute Error of abr: {}\".format(mae_abr_wheat))\n",
    "print(\"Mean Absolute Error of dtr: {}\".format(mae_dtr_wheat))"
   ]
  },
  {
   "cell_type": "markdown",
   "id": "sized-editor",
   "metadata": {},
   "source": [
    "# Showing the comaparison using DataFrame"
   ]
  },
  {
   "cell_type": "code",
   "execution_count": 31,
   "id": "biblical-prime",
   "metadata": {},
   "outputs": [
    {
     "data": {
      "text/html": [
       "<div>\n",
       "<style scoped>\n",
       "    .dataframe tbody tr th:only-of-type {\n",
       "        vertical-align: middle;\n",
       "    }\n",
       "\n",
       "    .dataframe tbody tr th {\n",
       "        vertical-align: top;\n",
       "    }\n",
       "\n",
       "    .dataframe thead th {\n",
       "        text-align: right;\n",
       "    }\n",
       "</style>\n",
       "<table border=\"1\" class=\"dataframe\">\n",
       "  <thead>\n",
       "    <tr style=\"text-align: right;\">\n",
       "      <th></th>\n",
       "      <th>Actual value wheat</th>\n",
       "      <th>predicted value of rfc</th>\n",
       "      <th>predicted value of knc</th>\n",
       "      <th>predicted value of gbr</th>\n",
       "      <th>predicted value of abr</th>\n",
       "      <th>predicted value of dtr</th>\n",
       "    </tr>\n",
       "  </thead>\n",
       "  <tbody>\n",
       "    <tr>\n",
       "      <th>20</th>\n",
       "      <td>10363</td>\n",
       "      <td>5444.58</td>\n",
       "      <td>6161.4</td>\n",
       "      <td>5182.729432</td>\n",
       "      <td>3481.571429</td>\n",
       "      <td>742.0</td>\n",
       "    </tr>\n",
       "    <tr>\n",
       "      <th>55</th>\n",
       "      <td>2525</td>\n",
       "      <td>6064.37</td>\n",
       "      <td>4906.2</td>\n",
       "      <td>6030.590992</td>\n",
       "      <td>6279.782609</td>\n",
       "      <td>9154.0</td>\n",
       "    </tr>\n",
       "    <tr>\n",
       "      <th>46</th>\n",
       "      <td>17153</td>\n",
       "      <td>15734.04</td>\n",
       "      <td>15618.8</td>\n",
       "      <td>16296.416073</td>\n",
       "      <td>15515.000000</td>\n",
       "      <td>15058.0</td>\n",
       "    </tr>\n",
       "    <tr>\n",
       "      <th>64</th>\n",
       "      <td>125</td>\n",
       "      <td>353.78</td>\n",
       "      <td>344.0</td>\n",
       "      <td>219.487584</td>\n",
       "      <td>726.937500</td>\n",
       "      <td>273.0</td>\n",
       "    </tr>\n",
       "    <tr>\n",
       "      <th>37</th>\n",
       "      <td>2363</td>\n",
       "      <td>1071.23</td>\n",
       "      <td>1408.0</td>\n",
       "      <td>531.948865</td>\n",
       "      <td>1245.043478</td>\n",
       "      <td>811.0</td>\n",
       "    </tr>\n",
       "    <tr>\n",
       "      <th>18</th>\n",
       "      <td>12678</td>\n",
       "      <td>15522.62</td>\n",
       "      <td>15618.8</td>\n",
       "      <td>16545.252190</td>\n",
       "      <td>16290.833333</td>\n",
       "      <td>17477.0</td>\n",
       "    </tr>\n",
       "    <tr>\n",
       "      <th>53</th>\n",
       "      <td>15893</td>\n",
       "      <td>16131.58</td>\n",
       "      <td>15618.8</td>\n",
       "      <td>16800.271989</td>\n",
       "      <td>16599.500000</td>\n",
       "      <td>15058.0</td>\n",
       "    </tr>\n",
       "    <tr>\n",
       "      <th>9</th>\n",
       "      <td>2788</td>\n",
       "      <td>2227.09</td>\n",
       "      <td>1032.2</td>\n",
       "      <td>2211.744688</td>\n",
       "      <td>2189.120000</td>\n",
       "      <td>2073.0</td>\n",
       "    </tr>\n",
       "    <tr>\n",
       "      <th>56</th>\n",
       "      <td>657</td>\n",
       "      <td>819.64</td>\n",
       "      <td>967.2</td>\n",
       "      <td>916.136114</td>\n",
       "      <td>823.846154</td>\n",
       "      <td>2597.0</td>\n",
       "    </tr>\n",
       "    <tr>\n",
       "      <th>69</th>\n",
       "      <td>3041</td>\n",
       "      <td>6586.53</td>\n",
       "      <td>5787.0</td>\n",
       "      <td>5436.278758</td>\n",
       "      <td>6449.000000</td>\n",
       "      <td>5473.0</td>\n",
       "    </tr>\n",
       "    <tr>\n",
       "      <th>21</th>\n",
       "      <td>710</td>\n",
       "      <td>1485.57</td>\n",
       "      <td>1044.8</td>\n",
       "      <td>1822.067047</td>\n",
       "      <td>1352.214286</td>\n",
       "      <td>2597.0</td>\n",
       "    </tr>\n",
       "    <tr>\n",
       "      <th>57</th>\n",
       "      <td>158</td>\n",
       "      <td>318.96</td>\n",
       "      <td>315.6</td>\n",
       "      <td>269.720640</td>\n",
       "      <td>711.269231</td>\n",
       "      <td>205.0</td>\n",
       "    </tr>\n",
       "    <tr>\n",
       "      <th>36</th>\n",
       "      <td>238</td>\n",
       "      <td>340.24</td>\n",
       "      <td>315.6</td>\n",
       "      <td>242.548662</td>\n",
       "      <td>711.269231</td>\n",
       "      <td>291.0</td>\n",
       "    </tr>\n",
       "    <tr>\n",
       "      <th>49</th>\n",
       "      <td>716</td>\n",
       "      <td>1116.43</td>\n",
       "      <td>967.2</td>\n",
       "      <td>823.406242</td>\n",
       "      <td>1129.000000</td>\n",
       "      <td>2306.0</td>\n",
       "    </tr>\n",
       "  </tbody>\n",
       "</table>\n",
       "</div>"
      ],
      "text/plain": [
       "    Actual value wheat  predicted value of rfc  predicted value of knc  \\\n",
       "20               10363                 5444.58                  6161.4   \n",
       "55                2525                 6064.37                  4906.2   \n",
       "46               17153                15734.04                 15618.8   \n",
       "64                 125                  353.78                   344.0   \n",
       "37                2363                 1071.23                  1408.0   \n",
       "18               12678                15522.62                 15618.8   \n",
       "53               15893                16131.58                 15618.8   \n",
       "9                 2788                 2227.09                  1032.2   \n",
       "56                 657                  819.64                   967.2   \n",
       "69                3041                 6586.53                  5787.0   \n",
       "21                 710                 1485.57                  1044.8   \n",
       "57                 158                  318.96                   315.6   \n",
       "36                 238                  340.24                   315.6   \n",
       "49                 716                 1116.43                   967.2   \n",
       "\n",
       "    predicted value of gbr  predicted value of abr  predicted value of dtr  \n",
       "20             5182.729432             3481.571429                   742.0  \n",
       "55             6030.590992             6279.782609                  9154.0  \n",
       "46            16296.416073            15515.000000                 15058.0  \n",
       "64              219.487584              726.937500                   273.0  \n",
       "37              531.948865             1245.043478                   811.0  \n",
       "18            16545.252190            16290.833333                 17477.0  \n",
       "53            16800.271989            16599.500000                 15058.0  \n",
       "9              2211.744688             2189.120000                  2073.0  \n",
       "56              916.136114              823.846154                  2597.0  \n",
       "69             5436.278758             6449.000000                  5473.0  \n",
       "21             1822.067047             1352.214286                  2597.0  \n",
       "57              269.720640              711.269231                   205.0  \n",
       "36              242.548662              711.269231                   291.0  \n",
       "49              823.406242             1129.000000                  2306.0  "
      ]
     },
     "execution_count": 31,
     "metadata": {},
     "output_type": "execute_result"
    }
   ],
   "source": [
    "com_wheat_df = pd.DataFrame(data={\"Actual value wheat\": wheat_y_test,\n",
    "                                   \"predicted value of rfc\": prediction_rfc_wheat,\n",
    "                                   \"predicted value of knc\": prediction_knc_wheat,\n",
    "                                   \"predicted value of gbr\": prediction_gbr_wheat,\n",
    "                                   \"predicted value of abr\": prediction_abr_wheat,\n",
    "                                   \"predicted value of dtr\": prediction_dtr_wheat,})\n",
    "\n",
    "com_wheat_df"
   ]
  },
  {
   "cell_type": "markdown",
   "id": "powerful-advertising",
   "metadata": {},
   "source": [
    "### KNeighbors Regressor Algorithm\n",
    "* In our case this algo gives us more accurate result comparing with others"
   ]
  },
  {
   "cell_type": "code",
   "execution_count": 32,
   "id": "positive-cooperative",
   "metadata": {},
   "outputs": [
    {
     "data": {
      "text/plain": [
       "2480.0"
      ]
     },
     "execution_count": 32,
     "metadata": {},
     "output_type": "execute_result"
    }
   ],
   "source": [
    "np.random.seed(3)\n",
    "\n",
    "models[\"KNeighborsRegressor\"].fit(wheat_X_train, wheat_y_train)\n",
    "test_predict_wheat_abr = float(models[\"KNeighborsRegressor\"].predict(test_arr))\n",
    "\n",
    "yield_for_wheat = test_predict_wheat_abr\n",
    "yield_for_wheat"
   ]
  },
  {
   "cell_type": "markdown",
   "id": "accepted-witness",
   "metadata": {},
   "source": [
    "# Mean Absolute Error for target (Potato) is calculated\n",
    "## In this section we will only test with the algorithm that has lowest MAE"
   ]
  },
  {
   "cell_type": "code",
   "execution_count": 33,
   "id": "reasonable-snowboard",
   "metadata": {},
   "outputs": [
    {
     "name": "stdout",
     "output_type": "stream",
     "text": [
      "Mean Absolute Error of rfc: 3455.9585714285718\n",
      "Mean Absolute Error of knc: 3032.100000000001\n",
      "Mean Absolute Error of gbr: 3974.4046662172827\n",
      "Mean Absolute Error of abr: 4472.480982823394\n",
      "Mean Absolute Error of dtr: 7367.571428571428\n"
     ]
    }
   ],
   "source": [
    "from sklearn.metrics import mean_absolute_error\n",
    "\n",
    "np.random.seed(0)\n",
    "\n",
    "prediction_rfc_potato = models[\"RandomForestRegressor\"].fit(potato_X_train, potato_y_train)\n",
    "prediction_knc_potato = models[\"KNeighborsRegressor\"].fit(potato_X_train, potato_y_train)\n",
    "prediction_gbr_potato = models[\"GradientBoostingRegressor\"].fit(potato_X_train, potato_y_train)\n",
    "prediction_abr_potato = models[\"AdaBoostRegressor\"].fit(potato_X_train, potato_y_train)\n",
    "prediction_dtr_potato = models[\"DecisionTreeRegressor\"].fit(potato_X_train, potato_y_train)\n",
    "\n",
    "prediction_rfc_potato = models[\"RandomForestRegressor\"].predict(potato_X_test)\n",
    "prediction_knc_potato = models[\"KNeighborsRegressor\"].predict(potato_X_test)\n",
    "prediction_gbr_potato = models[\"GradientBoostingRegressor\"].predict(potato_X_test)\n",
    "prediction_abr_potato = models[\"AdaBoostRegressor\"].predict(potato_X_test)\n",
    "prediction_dtr_potato = models[\"DecisionTreeRegressor\"].predict(potato_X_test)\n",
    "\n",
    "mae_rfc_potato = mean_absolute_error(potato_y_test, prediction_rfc_potato)\n",
    "mae_knc_potato = mean_absolute_error(potato_y_test, prediction_knc_potato)\n",
    "mae_gbr_potato = mean_absolute_error(potato_y_test, prediction_gbr_potato)\n",
    "mae_abr_potato = mean_absolute_error(potato_y_test, prediction_abr_potato)\n",
    "mae_dtr_potato = mean_absolute_error(potato_y_test, prediction_dtr_potato)\n",
    "\n",
    "print(\"Mean Absolute Error of rfc: {}\".format(mae_rfc_potato))\n",
    "print(\"Mean Absolute Error of knc: {}\".format(mae_knc_potato))\n",
    "print(\"Mean Absolute Error of gbr: {}\".format(mae_gbr_potato))\n",
    "print(\"Mean Absolute Error of abr: {}\".format(mae_abr_potato))\n",
    "print(\"Mean Absolute Error of dtr: {}\".format(mae_dtr_potato))"
   ]
  },
  {
   "cell_type": "markdown",
   "id": "geographic-hostel",
   "metadata": {},
   "source": [
    "# Showing the comaparison using DataFrame"
   ]
  },
  {
   "cell_type": "code",
   "execution_count": 34,
   "id": "attended-schema",
   "metadata": {
    "scrolled": true
   },
   "outputs": [
    {
     "data": {
      "text/html": [
       "<div>\n",
       "<style scoped>\n",
       "    .dataframe tbody tr th:only-of-type {\n",
       "        vertical-align: middle;\n",
       "    }\n",
       "\n",
       "    .dataframe tbody tr th {\n",
       "        vertical-align: top;\n",
       "    }\n",
       "\n",
       "    .dataframe thead th {\n",
       "        text-align: right;\n",
       "    }\n",
       "</style>\n",
       "<table border=\"1\" class=\"dataframe\">\n",
       "  <thead>\n",
       "    <tr style=\"text-align: right;\">\n",
       "      <th></th>\n",
       "      <th>Actual value potato</th>\n",
       "      <th>predicted value of rfc</th>\n",
       "      <th>predicted value of knc</th>\n",
       "      <th>predicted value of gbr</th>\n",
       "      <th>predicted value of abr</th>\n",
       "      <th>predicted value of dtr</th>\n",
       "    </tr>\n",
       "  </thead>\n",
       "  <tbody>\n",
       "    <tr>\n",
       "      <th>28</th>\n",
       "      <td>41564</td>\n",
       "      <td>42685.70</td>\n",
       "      <td>42332.8</td>\n",
       "      <td>40304.557434</td>\n",
       "      <td>42318.281250</td>\n",
       "      <td>40571.0</td>\n",
       "    </tr>\n",
       "    <tr>\n",
       "      <th>50</th>\n",
       "      <td>3335</td>\n",
       "      <td>4114.91</td>\n",
       "      <td>3892.0</td>\n",
       "      <td>4377.121007</td>\n",
       "      <td>10082.625000</td>\n",
       "      <td>3749.0</td>\n",
       "    </tr>\n",
       "    <tr>\n",
       "      <th>49</th>\n",
       "      <td>51989</td>\n",
       "      <td>42822.42</td>\n",
       "      <td>42504.2</td>\n",
       "      <td>45806.684725</td>\n",
       "      <td>42112.450000</td>\n",
       "      <td>43888.0</td>\n",
       "    </tr>\n",
       "    <tr>\n",
       "      <th>20</th>\n",
       "      <td>56592</td>\n",
       "      <td>50697.91</td>\n",
       "      <td>50627.8</td>\n",
       "      <td>54542.255408</td>\n",
       "      <td>51072.074074</td>\n",
       "      <td>58910.0</td>\n",
       "    </tr>\n",
       "    <tr>\n",
       "      <th>62</th>\n",
       "      <td>52557</td>\n",
       "      <td>51646.58</td>\n",
       "      <td>51993.0</td>\n",
       "      <td>55587.369888</td>\n",
       "      <td>51072.074074</td>\n",
       "      <td>52907.0</td>\n",
       "    </tr>\n",
       "    <tr>\n",
       "      <th>40</th>\n",
       "      <td>35094</td>\n",
       "      <td>32551.69</td>\n",
       "      <td>34899.4</td>\n",
       "      <td>35009.480639</td>\n",
       "      <td>32174.692308</td>\n",
       "      <td>16960.0</td>\n",
       "    </tr>\n",
       "    <tr>\n",
       "      <th>45</th>\n",
       "      <td>65423</td>\n",
       "      <td>76146.66</td>\n",
       "      <td>69611.0</td>\n",
       "      <td>80605.038415</td>\n",
       "      <td>72446.000000</td>\n",
       "      <td>96256.0</td>\n",
       "    </tr>\n",
       "    <tr>\n",
       "      <th>33</th>\n",
       "      <td>38005</td>\n",
       "      <td>37000.95</td>\n",
       "      <td>39564.4</td>\n",
       "      <td>40885.882954</td>\n",
       "      <td>41210.000000</td>\n",
       "      <td>29029.0</td>\n",
       "    </tr>\n",
       "    <tr>\n",
       "      <th>60</th>\n",
       "      <td>48956</td>\n",
       "      <td>41372.39</td>\n",
       "      <td>40542.0</td>\n",
       "      <td>45755.338658</td>\n",
       "      <td>40585.619048</td>\n",
       "      <td>41555.0</td>\n",
       "    </tr>\n",
       "    <tr>\n",
       "      <th>36</th>\n",
       "      <td>3353</td>\n",
       "      <td>4085.18</td>\n",
       "      <td>4025.4</td>\n",
       "      <td>6561.183451</td>\n",
       "      <td>10306.000000</td>\n",
       "      <td>3646.0</td>\n",
       "    </tr>\n",
       "    <tr>\n",
       "      <th>23</th>\n",
       "      <td>21049</td>\n",
       "      <td>24239.47</td>\n",
       "      <td>15263.8</td>\n",
       "      <td>22357.175691</td>\n",
       "      <td>14820.583333</td>\n",
       "      <td>11896.0</td>\n",
       "    </tr>\n",
       "    <tr>\n",
       "      <th>30</th>\n",
       "      <td>15655</td>\n",
       "      <td>15449.86</td>\n",
       "      <td>15353.6</td>\n",
       "      <td>14284.453986</td>\n",
       "      <td>14864.727273</td>\n",
       "      <td>17824.0</td>\n",
       "    </tr>\n",
       "    <tr>\n",
       "      <th>19</th>\n",
       "      <td>36304</td>\n",
       "      <td>32363.93</td>\n",
       "      <td>34178.8</td>\n",
       "      <td>24894.771807</td>\n",
       "      <td>34997.571429</td>\n",
       "      <td>40285.0</td>\n",
       "    </tr>\n",
       "    <tr>\n",
       "      <th>32</th>\n",
       "      <td>39150</td>\n",
       "      <td>39739.23</td>\n",
       "      <td>41020.4</td>\n",
       "      <td>42583.436578</td>\n",
       "      <td>40585.619048</td>\n",
       "      <td>49180.0</td>\n",
       "    </tr>\n",
       "  </tbody>\n",
       "</table>\n",
       "</div>"
      ],
      "text/plain": [
       "    Actual value potato  predicted value of rfc  predicted value of knc  \\\n",
       "28                41564                42685.70                 42332.8   \n",
       "50                 3335                 4114.91                  3892.0   \n",
       "49                51989                42822.42                 42504.2   \n",
       "20                56592                50697.91                 50627.8   \n",
       "62                52557                51646.58                 51993.0   \n",
       "40                35094                32551.69                 34899.4   \n",
       "45                65423                76146.66                 69611.0   \n",
       "33                38005                37000.95                 39564.4   \n",
       "60                48956                41372.39                 40542.0   \n",
       "36                 3353                 4085.18                  4025.4   \n",
       "23                21049                24239.47                 15263.8   \n",
       "30                15655                15449.86                 15353.6   \n",
       "19                36304                32363.93                 34178.8   \n",
       "32                39150                39739.23                 41020.4   \n",
       "\n",
       "    predicted value of gbr  predicted value of abr  predicted value of dtr  \n",
       "28            40304.557434            42318.281250                 40571.0  \n",
       "50             4377.121007            10082.625000                  3749.0  \n",
       "49            45806.684725            42112.450000                 43888.0  \n",
       "20            54542.255408            51072.074074                 58910.0  \n",
       "62            55587.369888            51072.074074                 52907.0  \n",
       "40            35009.480639            32174.692308                 16960.0  \n",
       "45            80605.038415            72446.000000                 96256.0  \n",
       "33            40885.882954            41210.000000                 29029.0  \n",
       "60            45755.338658            40585.619048                 41555.0  \n",
       "36             6561.183451            10306.000000                  3646.0  \n",
       "23            22357.175691            14820.583333                 11896.0  \n",
       "30            14284.453986            14864.727273                 17824.0  \n",
       "19            24894.771807            34997.571429                 40285.0  \n",
       "32            42583.436578            40585.619048                 49180.0  "
      ]
     },
     "execution_count": 34,
     "metadata": {},
     "output_type": "execute_result"
    }
   ],
   "source": [
    "com_potato_df = pd.DataFrame(data={\"Actual value potato\": potato_y_test,\n",
    "                                   \"predicted value of rfc\": prediction_rfc_potato,\n",
    "                                   \"predicted value of knc\": prediction_knc_potato,\n",
    "                                   \"predicted value of gbr\": prediction_gbr_potato,\n",
    "                                   \"predicted value of abr\": prediction_abr_potato,\n",
    "                                   \"predicted value of dtr\": prediction_dtr_potato,})\n",
    "\n",
    "com_potato_df"
   ]
  },
  {
   "cell_type": "markdown",
   "id": "whole-hypothesis",
   "metadata": {},
   "source": [
    "### Random Forest Regressor\n",
    "* In our case this algo gives us more accurate result comparing with others"
   ]
  },
  {
   "cell_type": "code",
   "execution_count": 35,
   "id": "infinite-navigator",
   "metadata": {},
   "outputs": [
    {
     "data": {
      "text/plain": [
       "33936.73"
      ]
     },
     "execution_count": 35,
     "metadata": {},
     "output_type": "execute_result"
    }
   ],
   "source": [
    "np.random.seed(3)\n",
    "\n",
    "models[\"RandomForestRegressor\"].fit(potato_X_train, potato_y_train)\n",
    "test_predict_potato_rfc = float(models[\"RandomForestRegressor\"].predict(test_arr))\n",
    "\n",
    "yield_for_potato = test_predict_potato_rfc\n",
    "yield_for_potato"
   ]
  },
  {
   "cell_type": "markdown",
   "id": "compliant-mouse",
   "metadata": {},
   "source": [
    "# Mean Absolute Error for target (Jute) is calculated\n",
    "## In this section we will only test with the algorithm that has lowest MAE"
   ]
  },
  {
   "cell_type": "code",
   "execution_count": 36,
   "id": "alone-barrel",
   "metadata": {},
   "outputs": [
    {
     "name": "stdout",
     "output_type": "stream",
     "text": [
      "Mean Absolute Error of rfc: 12753.313571428573\n",
      "Mean Absolute Error of knc: 14317.971428571427\n",
      "Mean Absolute Error of gbr: 13963.28844918242\n",
      "Mean Absolute Error of abr: 14258.789369256474\n",
      "Mean Absolute Error of dtr: 13584.42857142857\n"
     ]
    }
   ],
   "source": [
    "from sklearn.metrics import mean_absolute_error\n",
    "\n",
    "np.random.seed(0)\n",
    "\n",
    "prediction_rfc_jute = models[\"RandomForestRegressor\"].fit(jute_X_train, jute_y_train)\n",
    "prediction_knc_jute = models[\"KNeighborsRegressor\"].fit(jute_X_train, jute_y_train)\n",
    "prediction_gbr_jute = models[\"GradientBoostingRegressor\"].fit(jute_X_train, jute_y_train)\n",
    "prediction_abr_jute = models[\"AdaBoostRegressor\"].fit(jute_X_train, jute_y_train)\n",
    "prediction_dtr_jute = models[\"DecisionTreeRegressor\"].fit(jute_X_train, jute_y_train)\n",
    "\n",
    "prediction_rfc_jute = models[\"RandomForestRegressor\"].predict(jute_X_test)\n",
    "prediction_knc_jute = models[\"KNeighborsRegressor\"].predict(jute_X_test)\n",
    "prediction_gbr_jute = models[\"GradientBoostingRegressor\"].predict(jute_X_test)\n",
    "prediction_abr_jute = models[\"AdaBoostRegressor\"].predict(jute_X_test)\n",
    "prediction_dtr_jute = models[\"DecisionTreeRegressor\"].predict(jute_X_test)\n",
    "\n",
    "mae_rfc_jute = mean_absolute_error(jute_y_test, prediction_rfc_jute)\n",
    "mae_knc_jute = mean_absolute_error(jute_y_test, prediction_knc_jute)\n",
    "mae_gbr_jute = mean_absolute_error(jute_y_test, prediction_gbr_jute)\n",
    "mae_abr_jute = mean_absolute_error(jute_y_test, prediction_abr_jute)\n",
    "mae_dtr_jute = mean_absolute_error(jute_y_test, prediction_dtr_jute)\n",
    "\n",
    "print(\"Mean Absolute Error of rfc: {}\".format(mae_rfc_jute))\n",
    "print(\"Mean Absolute Error of knc: {}\".format(mae_knc_jute))\n",
    "print(\"Mean Absolute Error of gbr: {}\".format(mae_gbr_jute))\n",
    "print(\"Mean Absolute Error of abr: {}\".format(mae_abr_jute))\n",
    "print(\"Mean Absolute Error of dtr: {}\".format(mae_dtr_jute))"
   ]
  },
  {
   "cell_type": "markdown",
   "id": "normal-toolbox",
   "metadata": {},
   "source": [
    "# Showing the comaparison using DataFrame"
   ]
  },
  {
   "cell_type": "code",
   "execution_count": 37,
   "id": "sustained-evidence",
   "metadata": {
    "scrolled": true
   },
   "outputs": [
    {
     "data": {
      "text/html": [
       "<div>\n",
       "<style scoped>\n",
       "    .dataframe tbody tr th:only-of-type {\n",
       "        vertical-align: middle;\n",
       "    }\n",
       "\n",
       "    .dataframe tbody tr th {\n",
       "        vertical-align: top;\n",
       "    }\n",
       "\n",
       "    .dataframe thead th {\n",
       "        text-align: right;\n",
       "    }\n",
       "</style>\n",
       "<table border=\"1\" class=\"dataframe\">\n",
       "  <thead>\n",
       "    <tr style=\"text-align: right;\">\n",
       "      <th></th>\n",
       "      <th>Actual value jute</th>\n",
       "      <th>predicted value of rfc</th>\n",
       "      <th>predicted value of knc</th>\n",
       "      <th>predicted value of gbr</th>\n",
       "      <th>predicted value of abr</th>\n",
       "      <th>predicted value of dtr</th>\n",
       "    </tr>\n",
       "  </thead>\n",
       "  <tbody>\n",
       "    <tr>\n",
       "      <th>19</th>\n",
       "      <td>39786</td>\n",
       "      <td>62740.74</td>\n",
       "      <td>81868.2</td>\n",
       "      <td>73056.519427</td>\n",
       "      <td>69960.000000</td>\n",
       "      <td>37272.0</td>\n",
       "    </tr>\n",
       "    <tr>\n",
       "      <th>30</th>\n",
       "      <td>52187</td>\n",
       "      <td>41098.11</td>\n",
       "      <td>38884.2</td>\n",
       "      <td>37486.710509</td>\n",
       "      <td>37248.000000</td>\n",
       "      <td>37248.0</td>\n",
       "    </tr>\n",
       "    <tr>\n",
       "      <th>54</th>\n",
       "      <td>67001</td>\n",
       "      <td>79595.75</td>\n",
       "      <td>61775.4</td>\n",
       "      <td>72694.562821</td>\n",
       "      <td>80027.833333</td>\n",
       "      <td>77949.0</td>\n",
       "    </tr>\n",
       "    <tr>\n",
       "      <th>15</th>\n",
       "      <td>10338</td>\n",
       "      <td>10263.93</td>\n",
       "      <td>11842.6</td>\n",
       "      <td>11735.272279</td>\n",
       "      <td>13060.750000</td>\n",
       "      <td>10458.0</td>\n",
       "    </tr>\n",
       "    <tr>\n",
       "      <th>50</th>\n",
       "      <td>12378</td>\n",
       "      <td>11302.14</td>\n",
       "      <td>12761.4</td>\n",
       "      <td>9475.474287</td>\n",
       "      <td>13542.444444</td>\n",
       "      <td>10458.0</td>\n",
       "    </tr>\n",
       "    <tr>\n",
       "      <th>23</th>\n",
       "      <td>64371</td>\n",
       "      <td>39384.52</td>\n",
       "      <td>38370.6</td>\n",
       "      <td>37918.080660</td>\n",
       "      <td>37733.666667</td>\n",
       "      <td>38814.0</td>\n",
       "    </tr>\n",
       "    <tr>\n",
       "      <th>41</th>\n",
       "      <td>127486</td>\n",
       "      <td>97711.24</td>\n",
       "      <td>108727.4</td>\n",
       "      <td>112360.690475</td>\n",
       "      <td>106634.421053</td>\n",
       "      <td>152952.0</td>\n",
       "    </tr>\n",
       "    <tr>\n",
       "      <th>43</th>\n",
       "      <td>13464</td>\n",
       "      <td>11009.39</td>\n",
       "      <td>13400.8</td>\n",
       "      <td>12773.522028</td>\n",
       "      <td>12800.900000</td>\n",
       "      <td>6465.0</td>\n",
       "    </tr>\n",
       "    <tr>\n",
       "      <th>10</th>\n",
       "      <td>2430</td>\n",
       "      <td>3763.90</td>\n",
       "      <td>3034.4</td>\n",
       "      <td>4704.685873</td>\n",
       "      <td>10816.500000</td>\n",
       "      <td>4153.0</td>\n",
       "    </tr>\n",
       "    <tr>\n",
       "      <th>56</th>\n",
       "      <td>54177</td>\n",
       "      <td>64384.58</td>\n",
       "      <td>57941.4</td>\n",
       "      <td>62233.723293</td>\n",
       "      <td>63947.833333</td>\n",
       "      <td>67453.0</td>\n",
       "    </tr>\n",
       "    <tr>\n",
       "      <th>7</th>\n",
       "      <td>55858</td>\n",
       "      <td>56644.62</td>\n",
       "      <td>61009.2</td>\n",
       "      <td>60539.574108</td>\n",
       "      <td>59842.000000</td>\n",
       "      <td>54590.0</td>\n",
       "    </tr>\n",
       "    <tr>\n",
       "      <th>48</th>\n",
       "      <td>62109</td>\n",
       "      <td>91330.10</td>\n",
       "      <td>109686.0</td>\n",
       "      <td>109922.631017</td>\n",
       "      <td>93586.777778</td>\n",
       "      <td>113711.0</td>\n",
       "    </tr>\n",
       "    <tr>\n",
       "      <th>29</th>\n",
       "      <td>6993</td>\n",
       "      <td>10229.69</td>\n",
       "      <td>11842.6</td>\n",
       "      <td>8927.060461</td>\n",
       "      <td>12800.900000</td>\n",
       "      <td>6465.0</td>\n",
       "    </tr>\n",
       "    <tr>\n",
       "      <th>0</th>\n",
       "      <td>29825</td>\n",
       "      <td>58581.34</td>\n",
       "      <td>61009.2</td>\n",
       "      <td>60317.486968</td>\n",
       "      <td>59842.000000</td>\n",
       "      <td>63147.0</td>\n",
       "    </tr>\n",
       "  </tbody>\n",
       "</table>\n",
       "</div>"
      ],
      "text/plain": [
       "    Actual value jute  predicted value of rfc  predicted value of knc  \\\n",
       "19              39786                62740.74                 81868.2   \n",
       "30              52187                41098.11                 38884.2   \n",
       "54              67001                79595.75                 61775.4   \n",
       "15              10338                10263.93                 11842.6   \n",
       "50              12378                11302.14                 12761.4   \n",
       "23              64371                39384.52                 38370.6   \n",
       "41             127486                97711.24                108727.4   \n",
       "43              13464                11009.39                 13400.8   \n",
       "10               2430                 3763.90                  3034.4   \n",
       "56              54177                64384.58                 57941.4   \n",
       "7               55858                56644.62                 61009.2   \n",
       "48              62109                91330.10                109686.0   \n",
       "29               6993                10229.69                 11842.6   \n",
       "0               29825                58581.34                 61009.2   \n",
       "\n",
       "    predicted value of gbr  predicted value of abr  predicted value of dtr  \n",
       "19            73056.519427            69960.000000                 37272.0  \n",
       "30            37486.710509            37248.000000                 37248.0  \n",
       "54            72694.562821            80027.833333                 77949.0  \n",
       "15            11735.272279            13060.750000                 10458.0  \n",
       "50             9475.474287            13542.444444                 10458.0  \n",
       "23            37918.080660            37733.666667                 38814.0  \n",
       "41           112360.690475           106634.421053                152952.0  \n",
       "43            12773.522028            12800.900000                  6465.0  \n",
       "10             4704.685873            10816.500000                  4153.0  \n",
       "56            62233.723293            63947.833333                 67453.0  \n",
       "7             60539.574108            59842.000000                 54590.0  \n",
       "48           109922.631017            93586.777778                113711.0  \n",
       "29             8927.060461            12800.900000                  6465.0  \n",
       "0             60317.486968            59842.000000                 63147.0  "
      ]
     },
     "execution_count": 37,
     "metadata": {},
     "output_type": "execute_result"
    }
   ],
   "source": [
    "com_jute_df = pd.DataFrame(data={\"Actual value jute\": jute_y_test,\n",
    "                                   \"predicted value of rfc\": prediction_rfc_jute,\n",
    "                                   \"predicted value of knc\": prediction_knc_jute,\n",
    "                                   \"predicted value of gbr\": prediction_gbr_jute,\n",
    "                                   \"predicted value of abr\": prediction_abr_jute,\n",
    "                                   \"predicted value of dtr\": prediction_dtr_jute,})\n",
    "\n",
    "com_jute_df"
   ]
  },
  {
   "cell_type": "markdown",
   "id": "overhead-adoption",
   "metadata": {},
   "source": [
    "### KNeighbors Regressor Algorithm\n",
    "* In our case this algo gives us more accurate result comparing with others"
   ]
  },
  {
   "cell_type": "code",
   "execution_count": 38,
   "id": "excellent-serial",
   "metadata": {},
   "outputs": [
    {
     "data": {
      "text/plain": [
       "3402.4"
      ]
     },
     "execution_count": 38,
     "metadata": {},
     "output_type": "execute_result"
    }
   ],
   "source": [
    "np.random.seed(3)\n",
    "\n",
    "models[\"KNeighborsRegressor\"].fit(jute_X_train, jute_y_train)\n",
    "test_predict_jute_abr = float(models[\"KNeighborsRegressor\"].predict(test_arr))\n",
    "\n",
    "yield_for_jute = test_predict_jute_abr\n",
    "yield_for_jute"
   ]
  },
  {
   "cell_type": "code",
   "execution_count": 39,
   "id": "temporal-mediterranean",
   "metadata": {},
   "outputs": [
    {
     "data": {
      "text/plain": [
       "(10195.984175769298, 233930.07, 698424.6666666666, 2480.0, 33936.73, 3402.4)"
      ]
     },
     "execution_count": 39,
     "metadata": {},
     "output_type": "execute_result"
    }
   ],
   "source": [
    "yield_for_aus, yield_for_aman, yield_for_boro, yield_for_wheat, yield_for_potato, yield_for_jute"
   ]
  },
  {
   "cell_type": "code",
   "execution_count": 40,
   "id": "annoying-caribbean",
   "metadata": {},
   "outputs": [
    {
     "data": {
      "text/plain": [
       "{'yield_for_aus': 10195.984175769298,\n",
       " 'yield_for_aman': 233930.07,\n",
       " 'yield_for_boro': 698424.6666666666,\n",
       " 'yield_for_wheat': 2480.0,\n",
       " 'yield_for_potato': 33936.73,\n",
       " 'yield_for_jute': 3402.4}"
      ]
     },
     "execution_count": 40,
     "metadata": {},
     "output_type": "execute_result"
    }
   ],
   "source": [
    "result = {\"yield_for_aus\": yield_for_aus,\n",
    "         \"yield_for_aman\": yield_for_aman,\n",
    "         \"yield_for_boro\": yield_for_boro,\n",
    "         \"yield_for_wheat\": yield_for_wheat,\n",
    "         \"yield_for_potato\": yield_for_potato,\n",
    "         \"yield_for_jute\": yield_for_jute}\n",
    "result"
   ]
  },
  {
   "cell_type": "code",
   "execution_count": 41,
   "id": "favorite-korea",
   "metadata": {},
   "outputs": [
    {
     "data": {
      "image/png": "[encoded data removed]",
      "text/plain": [
       "<Figure size 432x288 with 1 Axes>"
      ]
     },
     "metadata": {
      "needs_background": "light"
     },
     "output_type": "display_data"
    }
   ],
   "source": [
    "dataframe_of_aus_accuracy_result = pd.DataFrame(result.values(),\n",
    "                          result.keys(),\n",
    "                          columns=[\"Comparison\"])\n",
    "dataframe_of_aus_accuracy_result.plot.bar();"
   ]
  },
  {
   "cell_type": "markdown",
   "id": "funded-drunk",
   "metadata": {},
   "source": [
    "# As we can see that Boro is yielding the most for given dataset\n",
    "* We will suggest Boro for that land"
   ]
  }
 ],
 "metadata": {
  "kernelspec": {
   "display_name": "Python 3",
   "language": "python",
   "name": "python3"
  },
  "language_info": {
   "codemirror_mode": {
    "name": "ipython",
    "version": 3
   },
   "file_extension": ".py",
   "mimetype": "text/x-python",
   "name": "python",
   "nbconvert_exporter": "python",
   "pygments_lexer": "ipython3",
   "version": "3.8.5"
  }
 },
 "nbformat": 4,
 "nbformat_minor": 5
}
